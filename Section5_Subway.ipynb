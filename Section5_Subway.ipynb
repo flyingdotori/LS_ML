{
 "cells": [
  {
   "cell_type": "markdown",
   "source": [
    "# 지하철 이용현황 공공데이터 분석"
   ],
   "metadata": {
    "collapsed": false,
    "pycharm": {
     "name": "#%% md\n"
    }
   }
  },
  {
   "cell_type": "markdown",
   "source": [
    "## 엑셀 파일 통합 정리"
   ],
   "metadata": {
    "collapsed": false,
    "pycharm": {
     "name": "#%% md\n"
    }
   }
  },
  {
   "cell_type": "code",
   "execution_count": 38,
   "metadata": {
    "collapsed": true,
    "pycharm": {
     "name": "#%%\n"
    }
   },
   "outputs": [],
   "source": [
    "import pandas as pd"
   ]
  },
  {
   "cell_type": "markdown",
   "source": [
    "### 1. raw 파일 불러오기\n",
    "- 일자/노선/자하철역별 승하차 고객수"
   ],
   "metadata": {
    "collapsed": false,
    "pycharm": {
     "name": "#%% md\n"
    }
   }
  },
  {
   "cell_type": "code",
   "execution_count": 2,
   "outputs": [
    {
     "data": {
      "text/plain": "       사용일자  노선명   역ID   역명  승차총승객수  하차총승객수      등록일자\n0  20190101  경춘선  1323   가평    1520    1436  20190104\n1  20190101  경춘선  1322   상천     275     114  20190104\n2  20190101  경춘선  1321   청평    1509    1083  20190104\n3  20190101  경춘선  1320  대성리     357     271  20190104\n4  20190101  경춘선  1319   마석    1772    1963  20190104",
      "text/html": "<div>\n<style scoped>\n    .dataframe tbody tr th:only-of-type {\n        vertical-align: middle;\n    }\n\n    .dataframe tbody tr th {\n        vertical-align: top;\n    }\n\n    .dataframe thead th {\n        text-align: right;\n    }\n</style>\n<table border=\"1\" class=\"dataframe\">\n  <thead>\n    <tr style=\"text-align: right;\">\n      <th></th>\n      <th>사용일자</th>\n      <th>노선명</th>\n      <th>역ID</th>\n      <th>역명</th>\n      <th>승차총승객수</th>\n      <th>하차총승객수</th>\n      <th>등록일자</th>\n    </tr>\n  </thead>\n  <tbody>\n    <tr>\n      <th>0</th>\n      <td>20190101</td>\n      <td>경춘선</td>\n      <td>1323</td>\n      <td>가평</td>\n      <td>1520</td>\n      <td>1436</td>\n      <td>20190104</td>\n    </tr>\n    <tr>\n      <th>1</th>\n      <td>20190101</td>\n      <td>경춘선</td>\n      <td>1322</td>\n      <td>상천</td>\n      <td>275</td>\n      <td>114</td>\n      <td>20190104</td>\n    </tr>\n    <tr>\n      <th>2</th>\n      <td>20190101</td>\n      <td>경춘선</td>\n      <td>1321</td>\n      <td>청평</td>\n      <td>1509</td>\n      <td>1083</td>\n      <td>20190104</td>\n    </tr>\n    <tr>\n      <th>3</th>\n      <td>20190101</td>\n      <td>경춘선</td>\n      <td>1320</td>\n      <td>대성리</td>\n      <td>357</td>\n      <td>271</td>\n      <td>20190104</td>\n    </tr>\n    <tr>\n      <th>4</th>\n      <td>20190101</td>\n      <td>경춘선</td>\n      <td>1319</td>\n      <td>마석</td>\n      <td>1772</td>\n      <td>1963</td>\n      <td>20190104</td>\n    </tr>\n  </tbody>\n</table>\n</div>"
     },
     "execution_count": 2,
     "metadata": {},
     "output_type": "execute_result"
    }
   ],
   "source": [
    "# 19년도 상반기\n",
    "file = './data/sec5_raw/CARD_SUBWAY_MONTH_201901.csv'\n",
    "raw = pd.read_csv(file)\n",
    "\n",
    "raw.head()"
   ],
   "metadata": {
    "collapsed": false,
    "pycharm": {
     "name": "#%%\n"
    }
   }
  },
  {
   "cell_type": "code",
   "execution_count": 3,
   "outputs": [
    {
     "name": "stdout",
     "output_type": "stream",
     "text": [
      "<class 'pandas.core.frame.DataFrame'>\n",
      "RangeIndex: 18334 entries, 0 to 18333\n",
      "Data columns (total 7 columns):\n",
      " #   Column  Non-Null Count  Dtype \n",
      "---  ------  --------------  ----- \n",
      " 0   사용일자    18334 non-null  int64 \n",
      " 1   노선명     18334 non-null  object\n",
      " 2   역ID     18334 non-null  int64 \n",
      " 3   역명      18334 non-null  object\n",
      " 4   승차총승객수  18334 non-null  int64 \n",
      " 5   하차총승객수  18334 non-null  int64 \n",
      " 6   등록일자    18334 non-null  int64 \n",
      "dtypes: int64(5), object(2)\n",
      "memory usage: 1002.8+ KB\n"
     ]
    }
   ],
   "source": [
    "raw.info()"
   ],
   "metadata": {
    "collapsed": false,
    "pycharm": {
     "name": "#%%\n"
    }
   }
  },
  {
   "cell_type": "markdown",
   "source": [
    "#### 참고) 판다스로 파일 읽어오기\n",
    "**데이터 파일 읽기: read_excel/read_csv**\n",
    "**옵션**\n",
    "- index_col = 컬럼 인덱스 번호     # 몇번째 컬럼을 인덱스로 지정할 것인지 선택\n",
    "- header = raw 인덱스 번호       # 몇번째 raw부터 포 데이터로 볼 것인지 선택\n",
    "- thousands = ','       # 천 단위 기호, 사용 시 숫자로 인식"
   ],
   "metadata": {
    "collapsed": false,
    "pycharm": {
     "name": "#%% md\n"
    }
   }
  },
  {
   "cell_type": "code",
   "execution_count": 4,
   "outputs": [],
   "source": [
    "# 2개 파일 합치기\n",
    "\n",
    "raw = pd.DataFrame()\n",
    "\n",
    "file1 = './data/sec5_raw/CARD_SUBWAY_MONTH_201901.csv'\n",
    "file2 = './data/sec5_raw/CARD_SUBWAY_MONTH_201902.csv'\n",
    "\n",
    "temp = pd.read_csv(file1)\n",
    "raw = pd.concat([raw,temp])\n",
    "\n",
    "temp = pd.read_csv(file2)\n",
    "raw = pd.concat([raw,temp])"
   ],
   "metadata": {
    "collapsed": false,
    "pycharm": {
     "name": "#%%\n"
    }
   }
  },
  {
   "cell_type": "code",
   "execution_count": 5,
   "outputs": [
    {
     "data": {
      "text/plain": "           사용일자    노선명   역ID          역명  승차총승객수  하차총승객수      등록일자\n0      20190101    경춘선  1323          가평    1520    1436  20190104\n1      20190101    경춘선  1322          상천     275     114  20190104\n2      20190101    경춘선  1321          청평    1509    1083  20190104\n3      20190101    경춘선  1320         대성리     357     271  20190104\n4      20190101    경춘선  1319          마석    1772    1963  20190104\n...         ...    ...   ...         ...     ...     ...       ...\n16538  20190228  우이신설선  4709      북한산보국문    6564    6029  20190303\n16539  20190228  우이신설선  4710          정릉    4821    4348  20190303\n16540  20190228    경춘선  1314         퇴계원    4212    3899  20190303\n16541  20190228  우이신설선  4711  성신여대입구(돈암)    4058    4452  20190303\n16542  20190228  우이신설선  4712          보문    1803    1836  20190303\n\n[34877 rows x 7 columns]",
      "text/html": "<div>\n<style scoped>\n    .dataframe tbody tr th:only-of-type {\n        vertical-align: middle;\n    }\n\n    .dataframe tbody tr th {\n        vertical-align: top;\n    }\n\n    .dataframe thead th {\n        text-align: right;\n    }\n</style>\n<table border=\"1\" class=\"dataframe\">\n  <thead>\n    <tr style=\"text-align: right;\">\n      <th></th>\n      <th>사용일자</th>\n      <th>노선명</th>\n      <th>역ID</th>\n      <th>역명</th>\n      <th>승차총승객수</th>\n      <th>하차총승객수</th>\n      <th>등록일자</th>\n    </tr>\n  </thead>\n  <tbody>\n    <tr>\n      <th>0</th>\n      <td>20190101</td>\n      <td>경춘선</td>\n      <td>1323</td>\n      <td>가평</td>\n      <td>1520</td>\n      <td>1436</td>\n      <td>20190104</td>\n    </tr>\n    <tr>\n      <th>1</th>\n      <td>20190101</td>\n      <td>경춘선</td>\n      <td>1322</td>\n      <td>상천</td>\n      <td>275</td>\n      <td>114</td>\n      <td>20190104</td>\n    </tr>\n    <tr>\n      <th>2</th>\n      <td>20190101</td>\n      <td>경춘선</td>\n      <td>1321</td>\n      <td>청평</td>\n      <td>1509</td>\n      <td>1083</td>\n      <td>20190104</td>\n    </tr>\n    <tr>\n      <th>3</th>\n      <td>20190101</td>\n      <td>경춘선</td>\n      <td>1320</td>\n      <td>대성리</td>\n      <td>357</td>\n      <td>271</td>\n      <td>20190104</td>\n    </tr>\n    <tr>\n      <th>4</th>\n      <td>20190101</td>\n      <td>경춘선</td>\n      <td>1319</td>\n      <td>마석</td>\n      <td>1772</td>\n      <td>1963</td>\n      <td>20190104</td>\n    </tr>\n    <tr>\n      <th>...</th>\n      <td>...</td>\n      <td>...</td>\n      <td>...</td>\n      <td>...</td>\n      <td>...</td>\n      <td>...</td>\n      <td>...</td>\n    </tr>\n    <tr>\n      <th>16538</th>\n      <td>20190228</td>\n      <td>우이신설선</td>\n      <td>4709</td>\n      <td>북한산보국문</td>\n      <td>6564</td>\n      <td>6029</td>\n      <td>20190303</td>\n    </tr>\n    <tr>\n      <th>16539</th>\n      <td>20190228</td>\n      <td>우이신설선</td>\n      <td>4710</td>\n      <td>정릉</td>\n      <td>4821</td>\n      <td>4348</td>\n      <td>20190303</td>\n    </tr>\n    <tr>\n      <th>16540</th>\n      <td>20190228</td>\n      <td>경춘선</td>\n      <td>1314</td>\n      <td>퇴계원</td>\n      <td>4212</td>\n      <td>3899</td>\n      <td>20190303</td>\n    </tr>\n    <tr>\n      <th>16541</th>\n      <td>20190228</td>\n      <td>우이신설선</td>\n      <td>4711</td>\n      <td>성신여대입구(돈암)</td>\n      <td>4058</td>\n      <td>4452</td>\n      <td>20190303</td>\n    </tr>\n    <tr>\n      <th>16542</th>\n      <td>20190228</td>\n      <td>우이신설선</td>\n      <td>4712</td>\n      <td>보문</td>\n      <td>1803</td>\n      <td>1836</td>\n      <td>20190303</td>\n    </tr>\n  </tbody>\n</table>\n<p>34877 rows × 7 columns</p>\n</div>"
     },
     "execution_count": 5,
     "metadata": {},
     "output_type": "execute_result"
    }
   ],
   "source": [
    "raw"
   ],
   "metadata": {
    "collapsed": false,
    "pycharm": {
     "name": "#%%\n"
    }
   }
  },
  {
   "cell_type": "markdown",
   "source": [
    "#### 폴더에 있는 모든 파일 불러와서 병합하기"
   ],
   "metadata": {
    "collapsed": false,
    "pycharm": {
     "name": "#%% md\n"
    }
   }
  },
  {
   "cell_type": "code",
   "execution_count": 6,
   "outputs": [],
   "source": [
    "import os   # os 라이브러리 : 폴더/파일 관리"
   ],
   "metadata": {
    "collapsed": false,
    "pycharm": {
     "name": "#%%\n"
    }
   }
  },
  {
   "cell_type": "code",
   "execution_count": 7,
   "outputs": [
    {
     "data": {
      "text/plain": "['CARD_SUBWAY_MONTH_201901.csv',\n 'CARD_SUBWAY_MONTH_201902.csv',\n 'CARD_SUBWAY_MONTH_201903.csv',\n 'CARD_SUBWAY_MONTH_201904.csv',\n 'CARD_SUBWAY_MONTH_201905.csv',\n 'CARD_SUBWAY_MONTH_201906.csv']"
     },
     "execution_count": 7,
     "metadata": {},
     "output_type": "execute_result"
    }
   ],
   "source": [
    "dirpath = './data/sec5_raw/'\n",
    "files = os.listdir(dirpath)       # 폴더에 있는 파일 리스트 확인\n",
    "files"
   ],
   "metadata": {
    "collapsed": false,
    "pycharm": {
     "name": "#%%\n"
    }
   }
  },
  {
   "cell_type": "code",
   "execution_count": 14,
   "outputs": [
    {
     "data": {
      "text/plain": "       사용일자  노선명   역ID   역명  승차총승객수  하차총승객수      등록일자\n0  20190101  경춘선  1323   가평    1520    1436  20190104\n1  20190101  경춘선  1322   상천     275     114  20190104\n2  20190101  경춘선  1321   청평    1509    1083  20190104\n3  20190101  경춘선  1320  대성리     357     271  20190104\n4  20190101  경춘선  1319   마석    1772    1963  20190104",
      "text/html": "<div>\n<style scoped>\n    .dataframe tbody tr th:only-of-type {\n        vertical-align: middle;\n    }\n\n    .dataframe tbody tr th {\n        vertical-align: top;\n    }\n\n    .dataframe thead th {\n        text-align: right;\n    }\n</style>\n<table border=\"1\" class=\"dataframe\">\n  <thead>\n    <tr style=\"text-align: right;\">\n      <th></th>\n      <th>사용일자</th>\n      <th>노선명</th>\n      <th>역ID</th>\n      <th>역명</th>\n      <th>승차총승객수</th>\n      <th>하차총승객수</th>\n      <th>등록일자</th>\n    </tr>\n  </thead>\n  <tbody>\n    <tr>\n      <th>0</th>\n      <td>20190101</td>\n      <td>경춘선</td>\n      <td>1323</td>\n      <td>가평</td>\n      <td>1520</td>\n      <td>1436</td>\n      <td>20190104</td>\n    </tr>\n    <tr>\n      <th>1</th>\n      <td>20190101</td>\n      <td>경춘선</td>\n      <td>1322</td>\n      <td>상천</td>\n      <td>275</td>\n      <td>114</td>\n      <td>20190104</td>\n    </tr>\n    <tr>\n      <th>2</th>\n      <td>20190101</td>\n      <td>경춘선</td>\n      <td>1321</td>\n      <td>청평</td>\n      <td>1509</td>\n      <td>1083</td>\n      <td>20190104</td>\n    </tr>\n    <tr>\n      <th>3</th>\n      <td>20190101</td>\n      <td>경춘선</td>\n      <td>1320</td>\n      <td>대성리</td>\n      <td>357</td>\n      <td>271</td>\n      <td>20190104</td>\n    </tr>\n    <tr>\n      <th>4</th>\n      <td>20190101</td>\n      <td>경춘선</td>\n      <td>1319</td>\n      <td>마석</td>\n      <td>1772</td>\n      <td>1963</td>\n      <td>20190104</td>\n    </tr>\n  </tbody>\n</table>\n</div>"
     },
     "execution_count": 14,
     "metadata": {},
     "output_type": "execute_result"
    }
   ],
   "source": [
    "# 여러 개의 파일 병합하기\n",
    "raw = pd.DataFrame()\n",
    "\n",
    "for file in files:\n",
    "    # print(dirpath+file)\n",
    "    temp = pd.read_csv(dirpath+file)\n",
    "    raw = pd.concat([raw, temp], ignore_index=True)     # ignore_index == reset_index(drop=True)\n",
    "\n",
    "raw.head()"
   ],
   "metadata": {
    "collapsed": false,
    "pycharm": {
     "name": "#%%\n"
    }
   }
  },
  {
   "cell_type": "code",
   "execution_count": 15,
   "outputs": [
    {
     "data": {
      "text/plain": "           사용일자  노선명  역ID     역명  승차총승객수  하차총승객수      등록일자\n99337  20190630  2호선  204  을지로4가    4940    4668  20190703\n99338  20190630  2호선  203  을지로3가   12043   11854  20190703\n99339  20190630  2호선  202  을지로입구   31622   29723  20190703\n99340  20190630  2호선  201     시청   10178    8214  20190703\n99341  20190630  1호선  159    동묘앞   13859   14352  20190703",
      "text/html": "<div>\n<style scoped>\n    .dataframe tbody tr th:only-of-type {\n        vertical-align: middle;\n    }\n\n    .dataframe tbody tr th {\n        vertical-align: top;\n    }\n\n    .dataframe thead th {\n        text-align: right;\n    }\n</style>\n<table border=\"1\" class=\"dataframe\">\n  <thead>\n    <tr style=\"text-align: right;\">\n      <th></th>\n      <th>사용일자</th>\n      <th>노선명</th>\n      <th>역ID</th>\n      <th>역명</th>\n      <th>승차총승객수</th>\n      <th>하차총승객수</th>\n      <th>등록일자</th>\n    </tr>\n  </thead>\n  <tbody>\n    <tr>\n      <th>99337</th>\n      <td>20190630</td>\n      <td>2호선</td>\n      <td>204</td>\n      <td>을지로4가</td>\n      <td>4940</td>\n      <td>4668</td>\n      <td>20190703</td>\n    </tr>\n    <tr>\n      <th>99338</th>\n      <td>20190630</td>\n      <td>2호선</td>\n      <td>203</td>\n      <td>을지로3가</td>\n      <td>12043</td>\n      <td>11854</td>\n      <td>20190703</td>\n    </tr>\n    <tr>\n      <th>99339</th>\n      <td>20190630</td>\n      <td>2호선</td>\n      <td>202</td>\n      <td>을지로입구</td>\n      <td>31622</td>\n      <td>29723</td>\n      <td>20190703</td>\n    </tr>\n    <tr>\n      <th>99340</th>\n      <td>20190630</td>\n      <td>2호선</td>\n      <td>201</td>\n      <td>시청</td>\n      <td>10178</td>\n      <td>8214</td>\n      <td>20190703</td>\n    </tr>\n    <tr>\n      <th>99341</th>\n      <td>20190630</td>\n      <td>1호선</td>\n      <td>159</td>\n      <td>동묘앞</td>\n      <td>13859</td>\n      <td>14352</td>\n      <td>20190703</td>\n    </tr>\n  </tbody>\n</table>\n</div>"
     },
     "execution_count": 15,
     "metadata": {},
     "output_type": "execute_result"
    }
   ],
   "source": [
    "raw.tail()"
   ],
   "metadata": {
    "collapsed": false,
    "pycharm": {
     "name": "#%%\n"
    }
   }
  },
  {
   "cell_type": "code",
   "execution_count": 16,
   "outputs": [
    {
     "name": "stdout",
     "output_type": "stream",
     "text": [
      "<class 'pandas.core.frame.DataFrame'>\n",
      "RangeIndex: 99342 entries, 0 to 99341\n",
      "Data columns (total 7 columns):\n",
      " #   Column  Non-Null Count  Dtype \n",
      "---  ------  --------------  ----- \n",
      " 0   사용일자    99342 non-null  int64 \n",
      " 1   노선명     99342 non-null  object\n",
      " 2   역ID     99342 non-null  int64 \n",
      " 3   역명      99342 non-null  object\n",
      " 4   승차총승객수  99342 non-null  int64 \n",
      " 5   하차총승객수  99342 non-null  int64 \n",
      " 6   등록일자    99342 non-null  int64 \n",
      "dtypes: int64(5), object(2)\n",
      "memory usage: 5.3+ MB\n"
     ]
    }
   ],
   "source": [
    "raw.info()"
   ],
   "metadata": {
    "collapsed": false,
    "pycharm": {
     "name": "#%%\n"
    }
   }
  },
  {
   "cell_type": "markdown",
   "source": [
    "#### 요일 추가하기"
   ],
   "metadata": {
    "collapsed": false,
    "pycharm": {
     "name": "#%% md\n"
    }
   }
  },
  {
   "cell_type": "code",
   "execution_count": 19,
   "outputs": [],
   "source": [
    "from datetime import datetime"
   ],
   "metadata": {
    "collapsed": false,
    "pycharm": {
     "name": "#%%\n"
    }
   }
  },
  {
   "cell_type": "markdown",
   "source": [
    "**datetime.strptime('날짜str', str 형태): 문자-->날짜타입**\n",
    "- str 형태: %Y-%m-%d %H:%M:%S\n",
    "\n",
    "**weekday(): 날짜 타입을 요일로 변경**\n",
    "- 월요일:0 ~ 일요일:6"
   ],
   "metadata": {
    "collapsed": false,
    "pycharm": {
     "name": "#%% md\n"
    }
   }
  },
  {
   "cell_type": "code",
   "execution_count": 23,
   "outputs": [],
   "source": [
    "# 날짜 컬럼을 요일로 변경해 리스트로 저장\n",
    "weekday_dict = ['월', '화', '수', '목', '금', '토', '일']\n",
    "\n",
    "weekday_list = []\n",
    "\n",
    "for date_str in raw['사용일자']:\n",
    "    date = datetime.strptime(str(date_str), \"%Y%m%d\")\n",
    "    weekday_index = date.weekday()\n",
    "    weekday = weekday_dict[weekday_index]\n",
    "\n",
    "    weekday_list.append(weekday)"
   ],
   "metadata": {
    "collapsed": false,
    "pycharm": {
     "name": "#%%\n"
    }
   }
  },
  {
   "cell_type": "code",
   "execution_count": 25,
   "outputs": [
    {
     "data": {
      "text/plain": "       사용일자  노선명   역ID   역명  승차총승객수  하차총승객수      등록일자 요일\n0  20190101  경춘선  1323   가평    1520    1436  20190104  화\n1  20190101  경춘선  1322   상천     275     114  20190104  화\n2  20190101  경춘선  1321   청평    1509    1083  20190104  화\n3  20190101  경춘선  1320  대성리     357     271  20190104  화\n4  20190101  경춘선  1319   마석    1772    1963  20190104  화",
      "text/html": "<div>\n<style scoped>\n    .dataframe tbody tr th:only-of-type {\n        vertical-align: middle;\n    }\n\n    .dataframe tbody tr th {\n        vertical-align: top;\n    }\n\n    .dataframe thead th {\n        text-align: right;\n    }\n</style>\n<table border=\"1\" class=\"dataframe\">\n  <thead>\n    <tr style=\"text-align: right;\">\n      <th></th>\n      <th>사용일자</th>\n      <th>노선명</th>\n      <th>역ID</th>\n      <th>역명</th>\n      <th>승차총승객수</th>\n      <th>하차총승객수</th>\n      <th>등록일자</th>\n      <th>요일</th>\n    </tr>\n  </thead>\n  <tbody>\n    <tr>\n      <th>0</th>\n      <td>20190101</td>\n      <td>경춘선</td>\n      <td>1323</td>\n      <td>가평</td>\n      <td>1520</td>\n      <td>1436</td>\n      <td>20190104</td>\n      <td>화</td>\n    </tr>\n    <tr>\n      <th>1</th>\n      <td>20190101</td>\n      <td>경춘선</td>\n      <td>1322</td>\n      <td>상천</td>\n      <td>275</td>\n      <td>114</td>\n      <td>20190104</td>\n      <td>화</td>\n    </tr>\n    <tr>\n      <th>2</th>\n      <td>20190101</td>\n      <td>경춘선</td>\n      <td>1321</td>\n      <td>청평</td>\n      <td>1509</td>\n      <td>1083</td>\n      <td>20190104</td>\n      <td>화</td>\n    </tr>\n    <tr>\n      <th>3</th>\n      <td>20190101</td>\n      <td>경춘선</td>\n      <td>1320</td>\n      <td>대성리</td>\n      <td>357</td>\n      <td>271</td>\n      <td>20190104</td>\n      <td>화</td>\n    </tr>\n    <tr>\n      <th>4</th>\n      <td>20190101</td>\n      <td>경춘선</td>\n      <td>1319</td>\n      <td>마석</td>\n      <td>1772</td>\n      <td>1963</td>\n      <td>20190104</td>\n      <td>화</td>\n    </tr>\n  </tbody>\n</table>\n</div>"
     },
     "execution_count": 25,
     "metadata": {},
     "output_type": "execute_result"
    }
   ],
   "source": [
    "# 요일 컬럼 추가\n",
    "raw['요일'] = weekday_list\n",
    "raw.head()"
   ],
   "metadata": {
    "collapsed": false,
    "pycharm": {
     "name": "#%%\n"
    }
   }
  },
  {
   "cell_type": "code",
   "execution_count": 27,
   "outputs": [
    {
     "data": {
      "text/plain": "           사용일자  노선명  역ID     역명  승차총승객수  하차총승객수      등록일자 요일\n99337  20190630  2호선  204  을지로4가    4940    4668  20190703  일\n99338  20190630  2호선  203  을지로3가   12043   11854  20190703  일\n99339  20190630  2호선  202  을지로입구   31622   29723  20190703  일\n99340  20190630  2호선  201     시청   10178    8214  20190703  일\n99341  20190630  1호선  159    동묘앞   13859   14352  20190703  일",
      "text/html": "<div>\n<style scoped>\n    .dataframe tbody tr th:only-of-type {\n        vertical-align: middle;\n    }\n\n    .dataframe tbody tr th {\n        vertical-align: top;\n    }\n\n    .dataframe thead th {\n        text-align: right;\n    }\n</style>\n<table border=\"1\" class=\"dataframe\">\n  <thead>\n    <tr style=\"text-align: right;\">\n      <th></th>\n      <th>사용일자</th>\n      <th>노선명</th>\n      <th>역ID</th>\n      <th>역명</th>\n      <th>승차총승객수</th>\n      <th>하차총승객수</th>\n      <th>등록일자</th>\n      <th>요일</th>\n    </tr>\n  </thead>\n  <tbody>\n    <tr>\n      <th>99337</th>\n      <td>20190630</td>\n      <td>2호선</td>\n      <td>204</td>\n      <td>을지로4가</td>\n      <td>4940</td>\n      <td>4668</td>\n      <td>20190703</td>\n      <td>일</td>\n    </tr>\n    <tr>\n      <th>99338</th>\n      <td>20190630</td>\n      <td>2호선</td>\n      <td>203</td>\n      <td>을지로3가</td>\n      <td>12043</td>\n      <td>11854</td>\n      <td>20190703</td>\n      <td>일</td>\n    </tr>\n    <tr>\n      <th>99339</th>\n      <td>20190630</td>\n      <td>2호선</td>\n      <td>202</td>\n      <td>을지로입구</td>\n      <td>31622</td>\n      <td>29723</td>\n      <td>20190703</td>\n      <td>일</td>\n    </tr>\n    <tr>\n      <th>99340</th>\n      <td>20190630</td>\n      <td>2호선</td>\n      <td>201</td>\n      <td>시청</td>\n      <td>10178</td>\n      <td>8214</td>\n      <td>20190703</td>\n      <td>일</td>\n    </tr>\n    <tr>\n      <th>99341</th>\n      <td>20190630</td>\n      <td>1호선</td>\n      <td>159</td>\n      <td>동묘앞</td>\n      <td>13859</td>\n      <td>14352</td>\n      <td>20190703</td>\n      <td>일</td>\n    </tr>\n  </tbody>\n</table>\n</div>"
     },
     "execution_count": 27,
     "metadata": {},
     "output_type": "execute_result"
    }
   ],
   "source": [
    "raw.tail()"
   ],
   "metadata": {
    "collapsed": false,
    "pycharm": {
     "name": "#%%\n"
    }
   }
  },
  {
   "cell_type": "code",
   "execution_count": 28,
   "outputs": [
    {
     "data": {
      "text/plain": "           사용일자    노선명   역ID           역명  승차총승객수  하차총승객수      등록일자 요일\n35664  20190302    경의선  1261        효창공원앞    1694    1886  20190305  토\n34917  20190301  우이신설선  4710           정릉    3620    2869  20190304  금\n89168  20190613    2호선   208    왕십리(성동구청)   22008   17282  20190616  목\n1577   20190103    6호선  2636           신당   10512   10947  20190106  목\n19277  20190202    7호선  2740   숭실대입구(살피재)    8339    7245  20190205  토\n59997  20190423    경강선  1507        신둔도예촌    1616    1398  20190426  화\n79835  20190528    2호선   202        을지로입구   57411   58372  20190531  화\n73489  20190517    5호선  2512          개화산    7329    6740  20190520  금\n27662  20190216    4호선   430  이촌(국립중앙박물관)   10422   11163  20190219  토\n97015  20190627    2호선   232      구로디지털단지   74330   74589  20190630  목",
      "text/html": "<div>\n<style scoped>\n    .dataframe tbody tr th:only-of-type {\n        vertical-align: middle;\n    }\n\n    .dataframe tbody tr th {\n        vertical-align: top;\n    }\n\n    .dataframe thead th {\n        text-align: right;\n    }\n</style>\n<table border=\"1\" class=\"dataframe\">\n  <thead>\n    <tr style=\"text-align: right;\">\n      <th></th>\n      <th>사용일자</th>\n      <th>노선명</th>\n      <th>역ID</th>\n      <th>역명</th>\n      <th>승차총승객수</th>\n      <th>하차총승객수</th>\n      <th>등록일자</th>\n      <th>요일</th>\n    </tr>\n  </thead>\n  <tbody>\n    <tr>\n      <th>35664</th>\n      <td>20190302</td>\n      <td>경의선</td>\n      <td>1261</td>\n      <td>효창공원앞</td>\n      <td>1694</td>\n      <td>1886</td>\n      <td>20190305</td>\n      <td>토</td>\n    </tr>\n    <tr>\n      <th>34917</th>\n      <td>20190301</td>\n      <td>우이신설선</td>\n      <td>4710</td>\n      <td>정릉</td>\n      <td>3620</td>\n      <td>2869</td>\n      <td>20190304</td>\n      <td>금</td>\n    </tr>\n    <tr>\n      <th>89168</th>\n      <td>20190613</td>\n      <td>2호선</td>\n      <td>208</td>\n      <td>왕십리(성동구청)</td>\n      <td>22008</td>\n      <td>17282</td>\n      <td>20190616</td>\n      <td>목</td>\n    </tr>\n    <tr>\n      <th>1577</th>\n      <td>20190103</td>\n      <td>6호선</td>\n      <td>2636</td>\n      <td>신당</td>\n      <td>10512</td>\n      <td>10947</td>\n      <td>20190106</td>\n      <td>목</td>\n    </tr>\n    <tr>\n      <th>19277</th>\n      <td>20190202</td>\n      <td>7호선</td>\n      <td>2740</td>\n      <td>숭실대입구(살피재)</td>\n      <td>8339</td>\n      <td>7245</td>\n      <td>20190205</td>\n      <td>토</td>\n    </tr>\n    <tr>\n      <th>59997</th>\n      <td>20190423</td>\n      <td>경강선</td>\n      <td>1507</td>\n      <td>신둔도예촌</td>\n      <td>1616</td>\n      <td>1398</td>\n      <td>20190426</td>\n      <td>화</td>\n    </tr>\n    <tr>\n      <th>79835</th>\n      <td>20190528</td>\n      <td>2호선</td>\n      <td>202</td>\n      <td>을지로입구</td>\n      <td>57411</td>\n      <td>58372</td>\n      <td>20190531</td>\n      <td>화</td>\n    </tr>\n    <tr>\n      <th>73489</th>\n      <td>20190517</td>\n      <td>5호선</td>\n      <td>2512</td>\n      <td>개화산</td>\n      <td>7329</td>\n      <td>6740</td>\n      <td>20190520</td>\n      <td>금</td>\n    </tr>\n    <tr>\n      <th>27662</th>\n      <td>20190216</td>\n      <td>4호선</td>\n      <td>430</td>\n      <td>이촌(국립중앙박물관)</td>\n      <td>10422</td>\n      <td>11163</td>\n      <td>20190219</td>\n      <td>토</td>\n    </tr>\n    <tr>\n      <th>97015</th>\n      <td>20190627</td>\n      <td>2호선</td>\n      <td>232</td>\n      <td>구로디지털단지</td>\n      <td>74330</td>\n      <td>74589</td>\n      <td>20190630</td>\n      <td>목</td>\n    </tr>\n  </tbody>\n</table>\n</div>"
     },
     "execution_count": 28,
     "metadata": {},
     "output_type": "execute_result"
    }
   ],
   "source": [
    "raw.sample(10)     # 중간의 임의의 데이터 확인"
   ],
   "metadata": {
    "collapsed": false,
    "pycharm": {
     "name": "#%%\n"
    }
   }
  },
  {
   "cell_type": "code",
   "execution_count": 31,
   "outputs": [
    {
     "data": {
      "text/plain": "Index(['사용일자', '노선명', '역ID', '역명', '승차총승객수', '하차총승객수', '등록일자', '요일'], dtype='object')"
     },
     "execution_count": 31,
     "metadata": {},
     "output_type": "execute_result"
    }
   ],
   "source": [
    "# 현재 컬럼명 확인\n",
    "raw.columns"
   ],
   "metadata": {
    "collapsed": false,
    "pycharm": {
     "name": "#%%\n"
    }
   }
  },
  {
   "cell_type": "code",
   "execution_count": 33,
   "outputs": [
    {
     "data": {
      "text/plain": "       사용일자 요일  노선명   역ID   역명  승차총승객수  하차총승객수      등록일자\n0  20190101  화  경춘선  1323   가평    1520    1436  20190104\n1  20190101  화  경춘선  1322   상천     275     114  20190104\n2  20190101  화  경춘선  1321   청평    1509    1083  20190104\n3  20190101  화  경춘선  1320  대성리     357     271  20190104\n4  20190101  화  경춘선  1319   마석    1772    1963  20190104",
      "text/html": "<div>\n<style scoped>\n    .dataframe tbody tr th:only-of-type {\n        vertical-align: middle;\n    }\n\n    .dataframe tbody tr th {\n        vertical-align: top;\n    }\n\n    .dataframe thead th {\n        text-align: right;\n    }\n</style>\n<table border=\"1\" class=\"dataframe\">\n  <thead>\n    <tr style=\"text-align: right;\">\n      <th></th>\n      <th>사용일자</th>\n      <th>요일</th>\n      <th>노선명</th>\n      <th>역ID</th>\n      <th>역명</th>\n      <th>승차총승객수</th>\n      <th>하차총승객수</th>\n      <th>등록일자</th>\n    </tr>\n  </thead>\n  <tbody>\n    <tr>\n      <th>0</th>\n      <td>20190101</td>\n      <td>화</td>\n      <td>경춘선</td>\n      <td>1323</td>\n      <td>가평</td>\n      <td>1520</td>\n      <td>1436</td>\n      <td>20190104</td>\n    </tr>\n    <tr>\n      <th>1</th>\n      <td>20190101</td>\n      <td>화</td>\n      <td>경춘선</td>\n      <td>1322</td>\n      <td>상천</td>\n      <td>275</td>\n      <td>114</td>\n      <td>20190104</td>\n    </tr>\n    <tr>\n      <th>2</th>\n      <td>20190101</td>\n      <td>화</td>\n      <td>경춘선</td>\n      <td>1321</td>\n      <td>청평</td>\n      <td>1509</td>\n      <td>1083</td>\n      <td>20190104</td>\n    </tr>\n    <tr>\n      <th>3</th>\n      <td>20190101</td>\n      <td>화</td>\n      <td>경춘선</td>\n      <td>1320</td>\n      <td>대성리</td>\n      <td>357</td>\n      <td>271</td>\n      <td>20190104</td>\n    </tr>\n    <tr>\n      <th>4</th>\n      <td>20190101</td>\n      <td>화</td>\n      <td>경춘선</td>\n      <td>1319</td>\n      <td>마석</td>\n      <td>1772</td>\n      <td>1963</td>\n      <td>20190104</td>\n    </tr>\n  </tbody>\n</table>\n</div>"
     },
     "execution_count": 33,
     "metadata": {},
     "output_type": "execute_result"
    }
   ],
   "source": [
    "# 컬럼 순서 변경\n",
    "raw = raw[['사용일자', '요일', '노선명', '역ID', '역명', '승차총승객수', '하차총승객수', '등록일자']]\n",
    "raw.head()"
   ],
   "metadata": {
    "collapsed": false,
    "pycharm": {
     "name": "#%%\n"
    }
   }
  },
  {
   "cell_type": "markdown",
   "source": [
    "### 2. 정리한 데이터 저장하기"
   ],
   "metadata": {
    "collapsed": false,
    "pycharm": {
     "name": "#%% md\n"
    }
   }
  },
  {
   "cell_type": "code",
   "execution_count": 37,
   "outputs": [],
   "source": [
    "fpath = './data/subway_raw.xlsx'\n",
    "\n",
    "raw.to_excel(fpath, index=False)"
   ],
   "metadata": {
    "collapsed": false,
    "pycharm": {
     "name": "#%%\n"
    }
   }
  },
  {
   "cell_type": "markdown",
   "source": [
    "## 일자별 승객 수 살펴보기"
   ],
   "metadata": {
    "collapsed": false,
    "pycharm": {
     "name": "#%% md\n"
    }
   }
  },
  {
   "cell_type": "markdown",
   "source": [
    "### Q)언제 지하철을 가장 많이 이용할까?"
   ],
   "metadata": {
    "collapsed": false,
    "pycharm": {
     "name": "#%% md\n"
    }
   }
  },
  {
   "cell_type": "markdown",
   "source": [
    "### 1. 준비한 자료 읽어오기"
   ],
   "metadata": {
    "collapsed": false,
    "pycharm": {
     "name": "#%% md\n"
    }
   }
  },
  {
   "cell_type": "code",
   "execution_count": 40,
   "outputs": [
    {
     "data": {
      "text/plain": "       사용일자 요일  노선명   역ID   역명  승차총승객수  하차총승객수      등록일자\n0  20190101  화  경춘선  1323   가평    1520    1436  20190104\n1  20190101  화  경춘선  1322   상천     275     114  20190104\n2  20190101  화  경춘선  1321   청평    1509    1083  20190104\n3  20190101  화  경춘선  1320  대성리     357     271  20190104\n4  20190101  화  경춘선  1319   마석    1772    1963  20190104",
      "text/html": "<div>\n<style scoped>\n    .dataframe tbody tr th:only-of-type {\n        vertical-align: middle;\n    }\n\n    .dataframe tbody tr th {\n        vertical-align: top;\n    }\n\n    .dataframe thead th {\n        text-align: right;\n    }\n</style>\n<table border=\"1\" class=\"dataframe\">\n  <thead>\n    <tr style=\"text-align: right;\">\n      <th></th>\n      <th>사용일자</th>\n      <th>요일</th>\n      <th>노선명</th>\n      <th>역ID</th>\n      <th>역명</th>\n      <th>승차총승객수</th>\n      <th>하차총승객수</th>\n      <th>등록일자</th>\n    </tr>\n  </thead>\n  <tbody>\n    <tr>\n      <th>0</th>\n      <td>20190101</td>\n      <td>화</td>\n      <td>경춘선</td>\n      <td>1323</td>\n      <td>가평</td>\n      <td>1520</td>\n      <td>1436</td>\n      <td>20190104</td>\n    </tr>\n    <tr>\n      <th>1</th>\n      <td>20190101</td>\n      <td>화</td>\n      <td>경춘선</td>\n      <td>1322</td>\n      <td>상천</td>\n      <td>275</td>\n      <td>114</td>\n      <td>20190104</td>\n    </tr>\n    <tr>\n      <th>2</th>\n      <td>20190101</td>\n      <td>화</td>\n      <td>경춘선</td>\n      <td>1321</td>\n      <td>청평</td>\n      <td>1509</td>\n      <td>1083</td>\n      <td>20190104</td>\n    </tr>\n    <tr>\n      <th>3</th>\n      <td>20190101</td>\n      <td>화</td>\n      <td>경춘선</td>\n      <td>1320</td>\n      <td>대성리</td>\n      <td>357</td>\n      <td>271</td>\n      <td>20190104</td>\n    </tr>\n    <tr>\n      <th>4</th>\n      <td>20190101</td>\n      <td>화</td>\n      <td>경춘선</td>\n      <td>1319</td>\n      <td>마석</td>\n      <td>1772</td>\n      <td>1963</td>\n      <td>20190104</td>\n    </tr>\n  </tbody>\n</table>\n</div>"
     },
     "execution_count": 40,
     "metadata": {},
     "output_type": "execute_result"
    }
   ],
   "source": [
    "fpath = './data/subway_raw.xlsx'\n",
    "\n",
    "raw = pd.read_excel(fpath)\n",
    "raw.head()"
   ],
   "metadata": {
    "collapsed": false,
    "pycharm": {
     "name": "#%%\n"
    }
   }
  },
  {
   "cell_type": "code",
   "execution_count": 41,
   "outputs": [
    {
     "name": "stdout",
     "output_type": "stream",
     "text": [
      "<class 'pandas.core.frame.DataFrame'>\n",
      "RangeIndex: 99342 entries, 0 to 99341\n",
      "Data columns (total 8 columns):\n",
      " #   Column  Non-Null Count  Dtype \n",
      "---  ------  --------------  ----- \n",
      " 0   사용일자    99342 non-null  int64 \n",
      " 1   요일      99342 non-null  object\n",
      " 2   노선명     99342 non-null  object\n",
      " 3   역ID     99342 non-null  int64 \n",
      " 4   역명      99342 non-null  object\n",
      " 5   승차총승객수  99342 non-null  int64 \n",
      " 6   하차총승객수  99342 non-null  int64 \n",
      " 7   등록일자    99342 non-null  int64 \n",
      "dtypes: int64(5), object(3)\n",
      "memory usage: 6.1+ MB\n"
     ]
    }
   ],
   "source": [
    "raw.info()"
   ],
   "metadata": {
    "collapsed": false,
    "pycharm": {
     "name": "#%%\n"
    }
   }
  },
  {
   "cell_type": "markdown",
   "source": [
    "### Q) 가장 승객이 많은 날짜"
   ],
   "metadata": {
    "collapsed": false,
    "pycharm": {
     "name": "#%% md\n"
    }
   }
  },
  {
   "cell_type": "code",
   "execution_count": 43,
   "outputs": [
    {
     "data": {
      "text/plain": "              승차총승객수\n사용일자     요일         \n20190101 화   3419948\n20190102 수   7621668\n20190103 목   7873692\n20190104 금   8270345\n20190105 토   6062294",
      "text/html": "<div>\n<style scoped>\n    .dataframe tbody tr th:only-of-type {\n        vertical-align: middle;\n    }\n\n    .dataframe tbody tr th {\n        vertical-align: top;\n    }\n\n    .dataframe thead th {\n        text-align: right;\n    }\n</style>\n<table border=\"1\" class=\"dataframe\">\n  <thead>\n    <tr style=\"text-align: right;\">\n      <th></th>\n      <th></th>\n      <th>승차총승객수</th>\n    </tr>\n    <tr>\n      <th>사용일자</th>\n      <th>요일</th>\n      <th></th>\n    </tr>\n  </thead>\n  <tbody>\n    <tr>\n      <th>20190101</th>\n      <th>화</th>\n      <td>3419948</td>\n    </tr>\n    <tr>\n      <th>20190102</th>\n      <th>수</th>\n      <td>7621668</td>\n    </tr>\n    <tr>\n      <th>20190103</th>\n      <th>목</th>\n      <td>7873692</td>\n    </tr>\n    <tr>\n      <th>20190104</th>\n      <th>금</th>\n      <td>8270345</td>\n    </tr>\n    <tr>\n      <th>20190105</th>\n      <th>토</th>\n      <td>6062294</td>\n    </tr>\n  </tbody>\n</table>\n</div>"
     },
     "execution_count": 43,
     "metadata": {},
     "output_type": "execute_result"
    }
   ],
   "source": [
    "# 사용일자/요일별 승차승객수 합계\n",
    "data_date = raw.pivot_table(index=['사용일자', '요일'], values='승차총승객수', aggfunc='sum')\n",
    "data_date.head()"
   ],
   "metadata": {
    "collapsed": false,
    "pycharm": {
     "name": "#%%\n"
    }
   }
  },
  {
   "cell_type": "code",
   "execution_count": 45,
   "outputs": [
    {
     "data": {
      "text/plain": "              승차총승객수\n사용일자     요일         \n20190503 금   9229899\n20190510 금   9164243\n20190524 금   9068976\n20190517 금   9058227\n20190412 금   9012472\n...              ...\n20190206 수   3741895\n20190101 화   3419948\n20190203 일   3412440\n20190204 월   2941955\n20190205 화   2837335\n\n[168 rows x 1 columns]",
      "text/html": "<div>\n<style scoped>\n    .dataframe tbody tr th:only-of-type {\n        vertical-align: middle;\n    }\n\n    .dataframe tbody tr th {\n        vertical-align: top;\n    }\n\n    .dataframe thead th {\n        text-align: right;\n    }\n</style>\n<table border=\"1\" class=\"dataframe\">\n  <thead>\n    <tr style=\"text-align: right;\">\n      <th></th>\n      <th></th>\n      <th>승차총승객수</th>\n    </tr>\n    <tr>\n      <th>사용일자</th>\n      <th>요일</th>\n      <th></th>\n    </tr>\n  </thead>\n  <tbody>\n    <tr>\n      <th>20190503</th>\n      <th>금</th>\n      <td>9229899</td>\n    </tr>\n    <tr>\n      <th>20190510</th>\n      <th>금</th>\n      <td>9164243</td>\n    </tr>\n    <tr>\n      <th>20190524</th>\n      <th>금</th>\n      <td>9068976</td>\n    </tr>\n    <tr>\n      <th>20190517</th>\n      <th>금</th>\n      <td>9058227</td>\n    </tr>\n    <tr>\n      <th>20190412</th>\n      <th>금</th>\n      <td>9012472</td>\n    </tr>\n    <tr>\n      <th>...</th>\n      <th>...</th>\n      <td>...</td>\n    </tr>\n    <tr>\n      <th>20190206</th>\n      <th>수</th>\n      <td>3741895</td>\n    </tr>\n    <tr>\n      <th>20190101</th>\n      <th>화</th>\n      <td>3419948</td>\n    </tr>\n    <tr>\n      <th>20190203</th>\n      <th>일</th>\n      <td>3412440</td>\n    </tr>\n    <tr>\n      <th>20190204</th>\n      <th>월</th>\n      <td>2941955</td>\n    </tr>\n    <tr>\n      <th>20190205</th>\n      <th>화</th>\n      <td>2837335</td>\n    </tr>\n  </tbody>\n</table>\n<p>168 rows × 1 columns</p>\n</div>"
     },
     "execution_count": 45,
     "metadata": {},
     "output_type": "execute_result"
    }
   ],
   "source": [
    "data_date.sort_values(by='승차총승객수', ascending=False)"
   ],
   "metadata": {
    "collapsed": false,
    "pycharm": {
     "name": "#%%\n"
    }
   }
  },
  {
   "cell_type": "markdown",
   "source": [
    "**-> 5월/금요일에 지하철 승객 수가 많다?**"
   ],
   "metadata": {
    "collapsed": false,
    "pycharm": {
     "name": "#%% md\n"
    }
   }
  },
  {
   "cell_type": "markdown",
   "source": [
    "### Q) 5월에 지하철 승객 수가 많다?\n",
    "\n",
    "월별 승객 수 비교 -> 월 컬럼 추가"
   ],
   "metadata": {
    "collapsed": false,
    "pycharm": {
     "name": "#%% md\n"
    }
   }
  },
  {
   "cell_type": "code",
   "execution_count": 52,
   "outputs": [],
   "source": [
    "# 연월/월일 컬러 추가하기\n",
    "yearmonth_list = []\n",
    "monthday_list = []\n",
    "for date in raw['사용일자']:\n",
    "    yearmonth = str(date)[:6]\n",
    "    yearmonth_list.append(yearmonth)\n",
    "    monthday = str(date)[4:]\n",
    "    monthday_list.append(monthday)\n",
    "\n",
    "raw['연월'] = yearmonth_list\n",
    "raw['월일'] = monthday_list"
   ],
   "metadata": {
    "collapsed": false,
    "pycharm": {
     "name": "#%%\n"
    }
   }
  },
  {
   "cell_type": "code",
   "execution_count": 53,
   "outputs": [
    {
     "data": {
      "text/plain": "       사용일자 요일  노선명   역ID   역명  승차총승객수  하차총승객수      등록일자      연월    월일\n0  20190101  화  경춘선  1323   가평    1520    1436  20190104  201901  0101\n1  20190101  화  경춘선  1322   상천     275     114  20190104  201901  0101\n2  20190101  화  경춘선  1321   청평    1509    1083  20190104  201901  0101\n3  20190101  화  경춘선  1320  대성리     357     271  20190104  201901  0101\n4  20190101  화  경춘선  1319   마석    1772    1963  20190104  201901  0101",
      "text/html": "<div>\n<style scoped>\n    .dataframe tbody tr th:only-of-type {\n        vertical-align: middle;\n    }\n\n    .dataframe tbody tr th {\n        vertical-align: top;\n    }\n\n    .dataframe thead th {\n        text-align: right;\n    }\n</style>\n<table border=\"1\" class=\"dataframe\">\n  <thead>\n    <tr style=\"text-align: right;\">\n      <th></th>\n      <th>사용일자</th>\n      <th>요일</th>\n      <th>노선명</th>\n      <th>역ID</th>\n      <th>역명</th>\n      <th>승차총승객수</th>\n      <th>하차총승객수</th>\n      <th>등록일자</th>\n      <th>연월</th>\n      <th>월일</th>\n    </tr>\n  </thead>\n  <tbody>\n    <tr>\n      <th>0</th>\n      <td>20190101</td>\n      <td>화</td>\n      <td>경춘선</td>\n      <td>1323</td>\n      <td>가평</td>\n      <td>1520</td>\n      <td>1436</td>\n      <td>20190104</td>\n      <td>201901</td>\n      <td>0101</td>\n    </tr>\n    <tr>\n      <th>1</th>\n      <td>20190101</td>\n      <td>화</td>\n      <td>경춘선</td>\n      <td>1322</td>\n      <td>상천</td>\n      <td>275</td>\n      <td>114</td>\n      <td>20190104</td>\n      <td>201901</td>\n      <td>0101</td>\n    </tr>\n    <tr>\n      <th>2</th>\n      <td>20190101</td>\n      <td>화</td>\n      <td>경춘선</td>\n      <td>1321</td>\n      <td>청평</td>\n      <td>1509</td>\n      <td>1083</td>\n      <td>20190104</td>\n      <td>201901</td>\n      <td>0101</td>\n    </tr>\n    <tr>\n      <th>3</th>\n      <td>20190101</td>\n      <td>화</td>\n      <td>경춘선</td>\n      <td>1320</td>\n      <td>대성리</td>\n      <td>357</td>\n      <td>271</td>\n      <td>20190104</td>\n      <td>201901</td>\n      <td>0101</td>\n    </tr>\n    <tr>\n      <th>4</th>\n      <td>20190101</td>\n      <td>화</td>\n      <td>경춘선</td>\n      <td>1319</td>\n      <td>마석</td>\n      <td>1772</td>\n      <td>1963</td>\n      <td>20190104</td>\n      <td>201901</td>\n      <td>0101</td>\n    </tr>\n  </tbody>\n</table>\n</div>"
     },
     "execution_count": 53,
     "metadata": {},
     "output_type": "execute_result"
    }
   ],
   "source": [
    "raw.head()"
   ],
   "metadata": {
    "collapsed": false,
    "pycharm": {
     "name": "#%%\n"
    }
   }
  },
  {
   "cell_type": "code",
   "execution_count": 57,
   "outputs": [
    {
     "data": {
      "text/plain": "           승차총승객수\n연월               \n201905  236267004\n201901  221848014\n201906  221547039\n201904  218832085\n201902  190335812\n201903  157782643",
      "text/html": "<div>\n<style scoped>\n    .dataframe tbody tr th:only-of-type {\n        vertical-align: middle;\n    }\n\n    .dataframe tbody tr th {\n        vertical-align: top;\n    }\n\n    .dataframe thead th {\n        text-align: right;\n    }\n</style>\n<table border=\"1\" class=\"dataframe\">\n  <thead>\n    <tr style=\"text-align: right;\">\n      <th></th>\n      <th>승차총승객수</th>\n    </tr>\n    <tr>\n      <th>연월</th>\n      <th></th>\n    </tr>\n  </thead>\n  <tbody>\n    <tr>\n      <th>201905</th>\n      <td>236267004</td>\n    </tr>\n    <tr>\n      <th>201901</th>\n      <td>221848014</td>\n    </tr>\n    <tr>\n      <th>201906</th>\n      <td>221547039</td>\n    </tr>\n    <tr>\n      <th>201904</th>\n      <td>218832085</td>\n    </tr>\n    <tr>\n      <th>201902</th>\n      <td>190335812</td>\n    </tr>\n    <tr>\n      <th>201903</th>\n      <td>157782643</td>\n    </tr>\n  </tbody>\n</table>\n</div>"
     },
     "execution_count": 57,
     "metadata": {},
     "output_type": "execute_result"
    }
   ],
   "source": [
    "# 월별 승객수\n",
    "# raw.pivot_table(index='연월', values='승차총승객수', aggfunc='sum')\n",
    "data_month = pd.pivot_table(raw, index='연월', values='승차총승객수', aggfunc='sum').sort_values(by='승차총승객수', ascending=False)    # 판다스의 pivot_table\n",
    "data_month"
   ],
   "metadata": {
    "collapsed": false,
    "pycharm": {
     "name": "#%%\n"
    }
   }
  },
  {
   "cell_type": "markdown",
   "source": [
    "**5월에 승객 수가 많은가 => True**"
   ],
   "metadata": {
    "collapsed": false,
    "pycharm": {
     "name": "#%% md\n"
    }
   }
  },
  {
   "cell_type": "markdown",
   "source": [
    "### Q) 금요일에 승객 수가 많다?\n",
    "- 요일별 승객 수 확인\n",
    "- 월별 편차 확인 -> 월별/일자별 승객 수 확인"
   ],
   "metadata": {
    "collapsed": false,
    "pycharm": {
     "name": "#%% md\n"
    }
   }
  },
  {
   "cell_type": "code",
   "execution_count": null,
   "outputs": [],
   "source": [],
   "metadata": {
    "collapsed": false,
    "pycharm": {
     "name": "#%%\n"
    }
   }
  }
 ],
 "metadata": {
  "kernelspec": {
   "display_name": "Python 3",
   "language": "python",
   "name": "python3"
  },
  "language_info": {
   "codemirror_mode": {
    "name": "ipython",
    "version": 2
   },
   "file_extension": ".py",
   "mimetype": "text/x-python",
   "name": "python",
   "nbconvert_exporter": "python",
   "pygments_lexer": "ipython2",
   "version": "2.7.6"
  }
 },
 "nbformat": 4,
 "nbformat_minor": 0
}